{
    "cells": [
        {
            "cell_type": "code",
            "execution_count": 2,
            "source": [
                "import tensorflow as tf\r\n",
                "from tensorflow.keras import datasets, layers, models\r\n",
                "import matplotlib.pyplot as plt\r\n",
                "import numpy as np"
            ],
            "outputs": [],
            "metadata": {}
        },
        {
            "cell_type": "code",
            "execution_count": 30,
            "source": [
                "(X_train, y_train), (X_test,y_test) = datasets.cifar10.load_data()\r\n",
                "X_train.shape"
            ],
            "outputs": [
                {
                    "output_type": "execute_result",
                    "data": {
                        "text/plain": [
                            "(50000, 32, 32, 3)"
                        ]
                    },
                    "metadata": {},
                    "execution_count": 30
                }
            ],
            "metadata": {}
        },
        {
            "cell_type": "code",
            "execution_count": 29,
            "source": [
                "X_test.shape"
            ],
            "outputs": [
                {
                    "output_type": "execute_result",
                    "data": {
                        "text/plain": [
                            "(10000, 32, 32, 3)"
                        ]
                    },
                    "metadata": {},
                    "execution_count": 29
                }
            ],
            "metadata": {}
        },
        {
            "cell_type": "code",
            "execution_count": 6,
            "source": [
                "y_train.shape"
            ],
            "outputs": [
                {
                    "output_type": "execute_result",
                    "data": {
                        "text/plain": [
                            "(50000, 1)"
                        ]
                    },
                    "metadata": {},
                    "execution_count": 6
                }
            ],
            "metadata": {}
        },
        {
            "cell_type": "code",
            "execution_count": 7,
            "source": [
                "y_train[:5]"
            ],
            "outputs": [
                {
                    "output_type": "execute_result",
                    "data": {
                        "text/plain": [
                            "array([[6],\n",
                            "       [9],\n",
                            "       [9],\n",
                            "       [4],\n",
                            "       [1]], dtype=uint8)"
                        ]
                    },
                    "metadata": {},
                    "execution_count": 7
                }
            ],
            "metadata": {}
        },
        {
            "cell_type": "code",
            "execution_count": 8,
            "source": [
                "y_train = y_train.reshape(-1,)\r\n",
                "y_train[:5]"
            ],
            "outputs": [
                {
                    "output_type": "execute_result",
                    "data": {
                        "text/plain": [
                            "array([6, 9, 9, 4, 1], dtype=uint8)"
                        ]
                    },
                    "metadata": {},
                    "execution_count": 8
                }
            ],
            "metadata": {}
        },
        {
            "cell_type": "code",
            "execution_count": 9,
            "source": [
                "\r\n",
                "y_test = y_test.reshape(-1,)"
            ],
            "outputs": [],
            "metadata": {}
        },
        {
            "cell_type": "code",
            "execution_count": 10,
            "source": [
                "classes = [\"thai food \",\"lao food\",\"mianmafood\",\"USA food \",\"UK food\",\"vietnam food\",\"china food\",\"europe food\",\"dog food\",\"cat food\"]"
            ],
            "outputs": [],
            "metadata": {}
        },
        {
            "cell_type": "code",
            "execution_count": 11,
            "source": [
                "def plot_sample(X, y, index):\r\n",
                "    plt.figure(figsize = (15,2))\r\n",
                "    plt.imshow(X[index])\r\n",
                "    plt.xlabel(classes[y[index]])"
            ],
            "outputs": [],
            "metadata": {}
        },
        {
            "cell_type": "code",
            "execution_count": 12,
            "source": [
                "plot_sample(X_train, y_train, 0)"
            ],
            "outputs": [
                {
                    "output_type": "display_data",
                    "data": {
                        "text/plain": [
                            "<Figure size 1080x144 with 1 Axes>"
                        ],
                        "image/png": "[encoded data removed]"
                    },
                    "metadata": {
                        "needs_background": "light"
                    }
                }
            ],
            "metadata": {}
        },
        {
            "cell_type": "code",
            "execution_count": 13,
            "source": [
                "plot_sample(X_train, y_train, 1)"
            ],
            "outputs": [
                {
                    "output_type": "display_data",
                    "data": {
                        "text/plain": [
                            "<Figure size 1080x144 with 1 Axes>"
                        ],
                        "image/png": "[encoded data removed]"
                    },
                    "metadata": {
                        "needs_background": "light"
                    }
                }
            ],
            "metadata": {}
        },
        {
            "cell_type": "code",
            "execution_count": 14,
            "source": [
                "X_train = X_train / 255.0\r\n",
                "X_test = X_test / 255.0"
            ],
            "outputs": [],
            "metadata": {}
        },
        {
            "cell_type": "code",
            "execution_count": 15,
            "source": [
                "\r\n",
                "ann = models.Sequential([\r\n",
                "        layers.Flatten(input_shape=(32,32,3)),\r\n",
                "        layers.Dense(3000, activation='relu'),\r\n",
                "        layers.Dense(1000, activation='relu'),\r\n",
                "        layers.Dense(10, activation='softmax')    \r\n",
                "    ])\r\n",
                "\r\n",
                "ann.compile(optimizer='SGD',\r\n",
                "              loss='sparse_categorical_crossentropy',\r\n",
                "              metrics=['accuracy'])\r\n",
                "\r\n",
                "ann.fit(X_train, y_train, epochs=5)"
            ],
            "outputs": [
                {
                    "output_type": "stream",
                    "name": "stdout",
                    "text": [
                        "Epoch 1/5\n",
                        "1563/1563 [==============================] - 89s 54ms/step - loss: 1.8171 - accuracy: 0.3540\n",
                        "Epoch 2/5\n",
                        "1563/1563 [==============================] - 90s 57ms/step - loss: 1.6242 - accuracy: 0.4283\n",
                        "Epoch 3/5\n",
                        "1563/1563 [==============================] - 92s 59ms/step - loss: 1.5450 - accuracy: 0.4552\n",
                        "Epoch 4/5\n",
                        "1563/1563 [==============================] - 89s 57ms/step - loss: 1.4825 - accuracy: 0.4783\n",
                        "Epoch 5/5\n",
                        "1563/1563 [==============================] - 91s 58ms/step - loss: 1.4354 - accuracy: 0.4944\n"
                    ]
                },
                {
                    "output_type": "execute_result",
                    "data": {
                        "text/plain": [
                            "<tensorflow.python.keras.callbacks.History at 0x215808332e0>"
                        ]
                    },
                    "metadata": {},
                    "execution_count": 15
                }
            ],
            "metadata": {}
        },
        {
            "cell_type": "code",
            "execution_count": 16,
            "source": [
                "from sklearn.metrics import confusion_matrix , classification_report\r\n",
                "import numpy as np\r\n",
                "y_pred = ann.predict(X_test)\r\n",
                "y_pred_classes = [np.argmax(element) for element in y_pred]\r\n",
                "\r\n",
                "print(\"Classification Report: \\n\", classification_report(y_test, y_pred_classes))"
            ],
            "outputs": [
                {
                    "output_type": "stream",
                    "name": "stdout",
                    "text": [
                        "Classification Report: \n",
                        "               precision    recall  f1-score   support\n",
                        "\n",
                        "           0       0.54      0.51      0.53      1000\n",
                        "           1       0.70      0.47      0.56      1000\n",
                        "           2       0.38      0.27      0.32      1000\n",
                        "           3       0.41      0.19      0.26      1000\n",
                        "           4       0.30      0.64      0.41      1000\n",
                        "           5       0.44      0.33      0.38      1000\n",
                        "           6       0.58      0.37      0.45      1000\n",
                        "           7       0.55      0.53      0.54      1000\n",
                        "           8       0.47      0.76      0.58      1000\n",
                        "           9       0.51      0.61      0.56      1000\n",
                        "\n",
                        "    accuracy                           0.47     10000\n",
                        "   macro avg       0.49      0.47      0.46     10000\n",
                        "weighted avg       0.49      0.47      0.46     10000\n",
                        "\n"
                    ]
                }
            ],
            "metadata": {}
        },
        {
            "cell_type": "code",
            "execution_count": 17,
            "source": [
                "\r\n",
                "cnn = models.Sequential([\r\n",
                "    layers.Conv2D(filters=32, kernel_size=(3, 3), activation='relu', input_shape=(32, 32, 3)),\r\n",
                "    layers.MaxPooling2D((2, 2)),\r\n",
                "    \r\n",
                "    layers.Conv2D(filters=64, kernel_size=(3, 3), activation='relu'),\r\n",
                "    layers.MaxPooling2D((2, 2)),\r\n",
                "    \r\n",
                "    layers.Flatten(),\r\n",
                "    layers.Dense(64, activation='relu'),\r\n",
                "    layers.Dense(10, activation='softmax')\r\n",
                "])\r\n"
            ],
            "outputs": [],
            "metadata": {}
        },
        {
            "cell_type": "code",
            "execution_count": 18,
            "source": [
                "cnn.compile(optimizer='adam',\r\n",
                "              loss='sparse_categorical_crossentropy',\r\n",
                "              metrics=['accuracy'])"
            ],
            "outputs": [],
            "metadata": {}
        },
        {
            "cell_type": "code",
            "execution_count": 19,
            "source": [
                "cnn.fit(X_train, y_train, epochs=10)"
            ],
            "outputs": [
                {
                    "output_type": "stream",
                    "name": "stdout",
                    "text": [
                        "Epoch 1/10\n",
                        "1563/1563 [==============================] - 53s 33ms/step - loss: 1.4855 - accuracy: 0.4644\n",
                        "Epoch 2/10\n",
                        "1563/1563 [==============================] - 48s 31ms/step - loss: 1.1133 - accuracy: 0.6102\n",
                        "Epoch 3/10\n",
                        "1563/1563 [==============================] - 49s 31ms/step - loss: 0.9839 - accuracy: 0.6561\n",
                        "Epoch 4/10\n",
                        "1563/1563 [==============================] - 46s 29ms/step - loss: 0.9073 - accuracy: 0.6839\n",
                        "Epoch 5/10\n",
                        "1563/1563 [==============================] - 46s 29ms/step - loss: 0.8464 - accuracy: 0.7053\n",
                        "Epoch 6/10\n",
                        "1563/1563 [==============================] - 47s 30ms/step - loss: 0.7935 - accuracy: 0.7248\n",
                        "Epoch 7/10\n",
                        "1563/1563 [==============================] - 43s 27ms/step - loss: 0.7510 - accuracy: 0.7365\n",
                        "Epoch 8/10\n",
                        "1563/1563 [==============================] - 43s 28ms/step - loss: 0.7094 - accuracy: 0.7520\n",
                        "Epoch 9/10\n",
                        "1563/1563 [==============================] - 39s 25ms/step - loss: 0.6720 - accuracy: 0.7636\n",
                        "Epoch 10/10\n",
                        "1563/1563 [==============================] - 39s 25ms/step - loss: 0.6344 - accuracy: 0.7757\n"
                    ]
                },
                {
                    "output_type": "execute_result",
                    "data": {
                        "text/plain": [
                            "<tensorflow.python.keras.callbacks.History at 0x215817d6a60>"
                        ]
                    },
                    "metadata": {},
                    "execution_count": 19
                }
            ],
            "metadata": {}
        },
        {
            "cell_type": "code",
            "execution_count": 20,
            "source": [
                "cnn.evaluate(X_test,y_test)"
            ],
            "outputs": [
                {
                    "output_type": "stream",
                    "name": "stdout",
                    "text": [
                        "313/313 [==============================] - 3s 9ms/step - loss: 0.9698 - accuracy: 0.6814\n"
                    ]
                },
                {
                    "output_type": "execute_result",
                    "data": {
                        "text/plain": [
                            "[0.9697715044021606, 0.6814000010490417]"
                        ]
                    },
                    "metadata": {},
                    "execution_count": 20
                }
            ],
            "metadata": {}
        },
        {
            "cell_type": "code",
            "execution_count": 21,
            "source": [
                "y_pred = cnn.predict(X_test)\r\n",
                "y_pred[:5]\r\n"
            ],
            "outputs": [
                {
                    "output_type": "execute_result",
                    "data": {
                        "text/plain": [
                            "array([[2.0896731e-04, 1.8237189e-03, 5.9359400e-03, 8.2099020e-01,\n",
                            "        2.2716341e-03, 1.9594410e-02, 4.9337458e-02, 5.2238617e-04,\n",
                            "        9.8685846e-02, 6.2943506e-04],\n",
                            "       [9.5193740e-04, 3.6227080e-01, 5.9693775e-07, 1.1636614e-06,\n",
                            "        3.9204379e-10, 3.7401393e-09, 3.9728715e-08, 2.3923940e-08,\n",
                            "        6.3604701e-01, 7.2841300e-04],\n",
                            "       [8.4564112e-02, 2.4882512e-01, 2.5137996e-02, 3.8628662e-03,\n",
                            "        5.3768731e-03, 1.7634905e-03, 1.2452569e-03, 5.8502937e-03,\n",
                            "        5.7706422e-01, 4.6309844e-02],\n",
                            "       [9.0393907e-01, 3.3827135e-03, 3.1162871e-02, 2.8488835e-04,\n",
                            "        7.0322817e-03, 3.9396804e-05, 1.5338967e-04, 2.0378915e-04,\n",
                            "        5.3723238e-02, 7.8381890e-05],\n",
                            "       [6.6674875e-07, 8.1653170e-06, 1.1360912e-03, 8.7823242e-02,\n",
                            "        2.7276645e-03, 8.7631901e-04, 9.0720046e-01, 4.0097717e-07,\n",
                            "        2.2660778e-04, 3.4210305e-07]], dtype=float32)"
                        ]
                    },
                    "metadata": {},
                    "execution_count": 21
                }
            ],
            "metadata": {}
        },
        {
            "cell_type": "code",
            "execution_count": 22,
            "source": [
                "y_pred = cnn.predict(X_test)\r\n",
                "y_pred[:5]\r\n"
            ],
            "outputs": [
                {
                    "output_type": "execute_result",
                    "data": {
                        "text/plain": [
                            "array([[2.0896731e-04, 1.8237189e-03, 5.9359400e-03, 8.2099020e-01,\n",
                            "        2.2716341e-03, 1.9594410e-02, 4.9337458e-02, 5.2238617e-04,\n",
                            "        9.8685846e-02, 6.2943506e-04],\n",
                            "       [9.5193740e-04, 3.6227080e-01, 5.9693775e-07, 1.1636614e-06,\n",
                            "        3.9204379e-10, 3.7401393e-09, 3.9728715e-08, 2.3923940e-08,\n",
                            "        6.3604701e-01, 7.2841300e-04],\n",
                            "       [8.4564112e-02, 2.4882512e-01, 2.5137996e-02, 3.8628662e-03,\n",
                            "        5.3768731e-03, 1.7634905e-03, 1.2452569e-03, 5.8502937e-03,\n",
                            "        5.7706422e-01, 4.6309844e-02],\n",
                            "       [9.0393907e-01, 3.3827135e-03, 3.1162871e-02, 2.8488835e-04,\n",
                            "        7.0322817e-03, 3.9396804e-05, 1.5338967e-04, 2.0378915e-04,\n",
                            "        5.3723238e-02, 7.8381890e-05],\n",
                            "       [6.6674875e-07, 8.1653170e-06, 1.1360912e-03, 8.7823242e-02,\n",
                            "        2.7276645e-03, 8.7631901e-04, 9.0720046e-01, 4.0097717e-07,\n",
                            "        2.2660778e-04, 3.4210305e-07]], dtype=float32)"
                        ]
                    },
                    "metadata": {},
                    "execution_count": 22
                }
            ],
            "metadata": {}
        },
        {
            "cell_type": "code",
            "execution_count": 23,
            "source": [
                "y_test[:5]\r\n"
            ],
            "outputs": [
                {
                    "output_type": "execute_result",
                    "data": {
                        "text/plain": [
                            "array([3, 8, 8, 0, 6], dtype=uint8)"
                        ]
                    },
                    "metadata": {},
                    "execution_count": 23
                }
            ],
            "metadata": {}
        },
        {
            "cell_type": "code",
            "execution_count": 24,
            "source": [
                "plot_sample(X_test, y_test,3)"
            ],
            "outputs": [
                {
                    "output_type": "display_data",
                    "data": {
                        "text/plain": [
                            "<Figure size 1080x144 with 1 Axes>"
                        ],
                        "image/png": "[encoded data removed]"
                    },
                    "metadata": {
                        "needs_background": "light"
                    }
                }
            ],
            "metadata": {}
        },
        {
            "cell_type": "code",
            "execution_count": 25,
            "source": [
                "classes[y_classes[3]]"
            ],
            "outputs": [
                {
                    "output_type": "error",
                    "ename": "NameError",
                    "evalue": "name 'y_classes' is not defined",
                    "traceback": [
                        "\u001b[1;31m---------------------------------------------------------------------------\u001b[0m",
                        "\u001b[1;31mNameError\u001b[0m                                 Traceback (most recent call last)",
                        "\u001b[1;32m<ipython-input-25-1fabdf716938>\u001b[0m in \u001b[0;36m<module>\u001b[1;34m\u001b[0m\n\u001b[1;32m----> 1\u001b[1;33m \u001b[0mclasses\u001b[0m\u001b[1;33m[\u001b[0m\u001b[0my_classes\u001b[0m\u001b[1;33m[\u001b[0m\u001b[1;36m3\u001b[0m\u001b[1;33m]\u001b[0m\u001b[1;33m]\u001b[0m\u001b[1;33m\u001b[0m\u001b[1;33m\u001b[0m\u001b[0m\n\u001b[0m",
                        "\u001b[1;31mNameError\u001b[0m: name 'y_classes' is not defined"
                    ]
                }
            ],
            "metadata": {}
        },
        {
            "cell_type": "code",
            "execution_count": 26,
            "source": [
                "classes[y_classes[3]]"
            ],
            "outputs": [
                {
                    "output_type": "error",
                    "ename": "NameError",
                    "evalue": "name 'y_classes' is not defined",
                    "traceback": [
                        "\u001b[1;31m---------------------------------------------------------------------------\u001b[0m",
                        "\u001b[1;31mNameError\u001b[0m                                 Traceback (most recent call last)",
                        "\u001b[1;32m<ipython-input-26-1fabdf716938>\u001b[0m in \u001b[0;36m<module>\u001b[1;34m\u001b[0m\n\u001b[1;32m----> 1\u001b[1;33m \u001b[0mclasses\u001b[0m\u001b[1;33m[\u001b[0m\u001b[0my_classes\u001b[0m\u001b[1;33m[\u001b[0m\u001b[1;36m3\u001b[0m\u001b[1;33m]\u001b[0m\u001b[1;33m]\u001b[0m\u001b[1;33m\u001b[0m\u001b[1;33m\u001b[0m\u001b[0m\n\u001b[0m",
                        "\u001b[1;31mNameError\u001b[0m: name 'y_classes' is not defined"
                    ]
                }
            ],
            "metadata": {}
        }
    ],
    "metadata": {
        "orig_nbformat": 4,
        "language_info": {
            "name": "python",
            "version": "3.8.8",
            "mimetype": "text/x-python",
            "codemirror_mode": {
                "name": "ipython",
                "version": 3
            },
            "pygments_lexer": "ipython3",
            "nbconvert_exporter": "python",
            "file_extension": ".py"
        },
        "kernelspec": {
            "name": "python3",
            "display_name": "Python 3.8.8 64-bit ('base': conda)"
        },
        "interpreter": {
            "hash": "8fac594bfae6525c0c41b4041d2d72effa188cc8ead05f81b1fab2bb098927fb"
        }
    },
    "nbformat": 4,
    "nbformat_minor": 2
}